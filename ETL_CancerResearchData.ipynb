{
 "cells": [
  {
   "cell_type": "code",
   "execution_count": null,
   "id": "9dbb6adc",
   "metadata": {},
   "outputs": [],
   "source": [
    "# Python SQL toolkit and Object Relational Mapper\n",
    "\n",
    "\n",
    "#import sqlalchemy\n",
    "#from sqlalchemy.ext.automap import automap_base\n",
    "#from sqlalchemy.orm import Session\n",
    "#from sqlalchemy import create_engine, func\n",
    "\n",
    "# create engine to hawaii.sqlite\n",
    "#engine = create_engine(\"sqlite:///Resources/df.sqlite\")"
   ]
  },
  {
   "cell_type": "code",
   "execution_count": null,
   "id": "6d69bef0",
   "metadata": {},
   "outputs": [],
   "source": [
    "# Dependencies and Setup\n",
    "import matplotlib.pyplot as plt\n",
    "import pandas as pd\n",
    "import scipy.stats as st\n",
    "import numpy as np \n",
    "import datetime as dt\n",
    "from scipy.stats import linregress\n",
    "from pathlib import Path\n",
    "from sklearn.model_selection import train_test_split\n",
    "from sklearn.linear_model import LogisticRegression\n",
    "from sklearn.metrics import confusion_matrix\n",
    "from sklearn.preprocessing import StandardScaler\n",
    "from sklearn.ensemble import RandomForestClassifier\n",
    "from sklearn.feature_selection import SelectFromModel\n",
    "from sklearn.manifold import TSNE\n",
    "import matplotlib.pyplot as plt\n",
    "from sklearn.cluster import KMeans\n",
    "\n",
    "import warnings\n",
    "warnings.filterwarnings('ignore')\n",
    "\n",
    "# Study raw data files\n",
    "total_registered_cases = \"Resources/Total_registerd_cases_raw_df2010-2019.csv\"\n",
    "total_registered_cases_by_State = \"Resources/Total_registerd_cases_by state_df2010-2019.csv\"\n",
    "\n",
    "# Read both dataframes\n",
    "total_registered_cases_df = pd.read_csv(total_registered_cases, encoding=\"utf-8\")\n",
    "total_registered_cases_by_State_df = pd.read_csv(total_registered_cases_by_State, encoding=\"utf-8\")"
   ]
  },
  {
   "cell_type": "code",
   "execution_count": null,
   "id": "6af9d63a",
   "metadata": {},
   "outputs": [],
   "source": [
    "total_registered_cases_by_State_df"
   ]
  },
  {
   "cell_type": "code",
   "execution_count": null,
   "id": "053da10e",
   "metadata": {},
   "outputs": [],
   "source": [
    "total_registered_cases_df"
   ]
  },
  {
   "cell_type": "code",
   "execution_count": null,
   "id": "1c0d494a",
   "metadata": {},
   "outputs": [],
   "source": [
    "# Combine the data into a single dataset.  \n",
    "#Final_data_combined_df = pd.merge(total_registered_cases_df, total_registered_cases_by_State_df)"
   ]
  }
 ],
 "metadata": {
  "kernelspec": {
   "display_name": "Python 3 (ipykernel)",
   "language": "python",
   "name": "python3"
  },
  "language_info": {
   "codemirror_mode": {
    "name": "ipython",
    "version": 3
   },
   "file_extension": ".py",
   "mimetype": "text/x-python",
   "name": "python",
   "nbconvert_exporter": "python",
   "pygments_lexer": "ipython3",
   "version": "3.9.12"
  }
 },
 "nbformat": 4,
 "nbformat_minor": 5
}
